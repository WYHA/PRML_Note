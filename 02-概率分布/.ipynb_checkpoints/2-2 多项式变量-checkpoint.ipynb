{
 "cells": [
  {
   "cell_type": "markdown",
   "metadata": {
    "collapsed": true
   },
   "source": [
    "## 2.2.0 前言\n",
    "---\n",
    "二元变量可以用来描述只能取两种可能值中的某一种这样的量，然而我们经常遇到可以取$K$种状态的情况。一种比较方便的方法是$1-of-K$表示法，这种表示法，变量被表示为一个$K$维向量。如下所示\n",
    "$$\n",
    "x = (0,0,1,0,0,0)^T\n",
    "$$\n",
    "上面的向量就是指，有一个可以取6中状态的变量，在某次观测中恰好取了$x_3 = 1$。如果我们用参数表示$x_k=1$的概率，那么$x$的分布就是\n",
    "$$\n",
    "p(x|\\mu)=\\prod ^K_{k=1}\\mu^{x_k}_k\n",
    "$$\n",
    "其中$\\vec\\mu=(\\mu_1,..,\\mu_K)^T$，上式可以看做是伯努利分布的推广。\n",
    "\n",
    "现在考虑有$N$个独立的观测值得数据集$D=\\{x_1,...,x_N\\}$，对应的似然函数形式为：\n",
    "$$\n",
    "p(D|\\mu)=\\prod^N_{n=1}\\prod^K_{k=1}\\mu^{x_{nk}}_k=\\prod^K_{k=1}\\mu^{(\\sum_nx_{nk})}_k=\\prod^K_{k=1}\\mu^{m_k}_k\n",
    "$$\n",
    "\n",
    "可以看到以上的似然函数只依赖于\n",
    "$$\n",
    "m_k = \\sum_nx_{nk}\n",
    "$$\n",
    "也就是观测到$x_n=1$的次数。\n",
    "\n",
    "为了找到$\\mu$的醉倒似然解，我们需要关于$\\mu_k$最大化$\\ln p(D|\\mu)$引入拉格朗日乘子$\\lambda$。最大化：\n",
    "$$\n",
    "\\sum^K_{k=1}m_k\\ln \\mu+\\lambda(\\sum^K_{k=1}\\mu_k - 1)\n",
    "$$\n",
    "另上式关于$\\mu_k$的导数为0，有\n",
    "$$\n",
    "\\mu_k=-\\frac{m_k}{\\lambda}\n",
    "$$\n",
    "又$\\sum_k\\mu_k=1$，解得$\\lambda=-N$。所以得到最大似然的解：\n",
    "$$\n",
    "\\mu^{ML}_k=\\frac{m_k}{N}\n",
    "$$\n",
    "**多项式分布形态如下：**\n",
    "$$\n",
    "Mult(m_1,m_2,...,m_K|\\mu, N)=\\binom{N}{m_1m_2...m_k}\\prod^K_{k=1}\\mu^{m_k}_k\n",
    "$$"
   ]
  },
  {
   "cell_type": "markdown",
   "metadata": {},
   "source": [
    "## 2.2.1 狄利克雷分布\n",
    "\n",
    "![image](https://raw.githubusercontent.com/data2world/PRML_Note/master/IMG/CH02/2.4.png)\n",
    "\n",
    "![image](https://raw.githubusercontent.com/data2world/PRML_Note/master/IMG/CH02/2.5.png)\n",
    "\n",
    "上面说到二项分布的共轭分布时Beta分布，多项式分布的共轭分布是什么呢？——狄利克雷分布。\n",
    "通过观察多项式的分布形态，可以看到共轭先验：\n",
    "$$\n",
    "p(\\mu|\\alpha)\\propto \\prod^K_{k=1}\\mu^{\\alpha_k-1}_k\n",
    "$$\n",
    "\n",
    "通过归一化：\n",
    "$$\n",
    "Dir(\\mu|\\alpha)=\\frac{\\Gamma(\\alpha_0)}{\\Gamma(\\alpha_1)...\\Gamma(\\alpha_K)}\\prod^K_{k=1}\\mu^{\\alpha_k-1}_k\n",
    "$$\n",
    "\n",
    "这被称为狄利克雷分布（Dirichlet distribution）\n",
    "我们用似然函数乘以先验，就得到了参数${\\mu_k}$的后验分布形式。\n",
    "$$\n",
    "\\binom{N}{m_1m_2...m_k}\\prod^K_{k=1}\\mu^{m_k}_k\\frac{\\Gamma(\\alpha_0)}{\\Gamma(\\alpha_1)...\\Gamma(\\alpha_K)}\\prod^K_{k=1}\\mu^{\\alpha_k-1}_k\n",
    "$$\n",
    "得到\n",
    "$$\n",
    "p(\\mu|D,\\alpha)\\propto p(D|\\mu)p(\\mu|\\alpha)\\propto\\prod^K_{k=1}\\mu^{a_k+m_k-1}_k\n",
    "$$"
   ]
  },
  {
   "cell_type": "code",
   "execution_count": null,
   "metadata": {
    "collapsed": true
   },
   "outputs": [],
   "source": []
  }
 ],
 "metadata": {
  "kernelspec": {
   "display_name": "Python 2",
   "language": "python",
   "name": "python2"
  },
  "language_info": {
   "codemirror_mode": {
    "name": "ipython",
    "version": 2
   },
   "file_extension": ".py",
   "mimetype": "text/x-python",
   "name": "python",
   "nbconvert_exporter": "python",
   "pygments_lexer": "ipython2",
   "version": "2.7.13"
  },
  "toc": {
   "nav_menu": {},
   "number_sections": false,
   "sideBar": true,
   "skip_h1_title": false,
   "toc_cell": false,
   "toc_position": {},
   "toc_section_display": "block",
   "toc_window_display": true
  }
 },
 "nbformat": 4,
 "nbformat_minor": 2
}
