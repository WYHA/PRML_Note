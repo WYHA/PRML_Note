{
 "cells": [
  {
   "cell_type": "markdown",
   "metadata": {
    "collapsed": true
   },
   "source": [
    "---\n",
    "## 2.4.0 前言\n",
    "---\n",
    ">这一章介绍的大多数分布族都是指数族（The Exponential Family）。其中离散的指数族有二项分布族、泊松分布族和负二项分布族等；连续的指数族有正态分布族（高斯）、伽马分布族、Beta分布族等。\n",
    "\n",
    "**指数分布族的定义**\n",
    "参数为$\\eta$的变量$x$的指数族分布是具有下面形式的概率分布集合：\n",
    "\n",
    "$$\n",
    "p(x|\\eta)=h(x)g(\\eta)\\mathrm{exp\\{\\eta^Tu(x)\\}} \\tag{2.194}\n",
    "$$\n",
    "\n",
    "- $h(x)$是观测值$x$的实值函数，且不依赖于$\\eta$\n",
    "- $g(\\eta) \\geq 0$\n",
    "\n",
    "下面推导一下二项分布、高斯分布等的确是符合指数族的定义的：\n",
    "\n",
    "### 伯努利分布推导指数族分布族\n",
    "$$\n",
    "p(x|\\mu)=\\mu^{x}(1-\\mu)^{1-x} \\\\\\\\\n",
    "=\\mathrm{exp}\\{\\ln(\\mu)^{x}(1-\\mu)^{1-x}\\} \\\\\\\\\n",
    "=\\mathrm{exp}\\{x\\ln\\mu+(1-x)\\ln(1-\\mu)\\} \\\\\\\\\n",
    "=\\mathrm{exp}\\left\\{x\\ln\\left(\\frac{x}{1-x}\\right)+\\ln(1-\\mu)\\right\\}\n",
    "$$\n",
    "\n",
    "**令$\\theta = \\ln\\frac{\\mu}{1-\\mu}$, 那么上式就等于**\n",
    "\n",
    "$$\n",
    "\\mathrm{exp}\\left\\{x\\ln\\left(\\frac{x}{1-x}\\right)+\\ln(1-\\mu)\\right\\} \\\\\\\\\n",
    "= \\mathrm{exp}\\{x\\eta-\\ln(1+\\mathrm{e}^\\eta)\\}\n",
    "$$\n",
    "\n",
    "从\n",
    "$$\n",
    "\\eta = \\ln\\frac{\\mu}{1-\\mu}\n",
    "$$\n",
    "可以将$\\mu$值推出：\n",
    "$$\n",
    "\\mu = \\sigma(\\eta) = \\frac{1}{1+\\mathrm{exp}(-\\eta)}\n",
    "$$\n",
    "**上式就是logistic sigmoid函数**\n",
    "\n",
    "写成**公式（2.194）**的形式就是：\n",
    "\n",
    "$$\n",
    "p(x|\\mu)=\\sigma(-\\eta)\\mathrm{exp}(\\eta x) \\tag{2.200}\n",
    "$$\n",
    "\n",
    "**对比可得：**\n",
    "- $u(x)=x$\n",
    "- $h(x)=1$\n",
    "- $g(\\eta)=\\sigma(-\\eta)$\n",
    "\n"
   ]
  },
  {
   "cell_type": "markdown",
   "metadata": {
    "collapsed": true
   },
   "source": [
    "### 多项式分布推导指数族分布族\n",
    "\n",
    "$$\n",
    "p(x|\\mu)=\\prod^M_{k=1}\\mu_k^{x_k}=\\mathrm{exp}\\left\\{\\sum_{k=1}^Mx_k\\ln \\mu_k\\right\\} \\tag{2.204}\n",
    "$$\n",
    "\n",
    "写成**公式（2.194）**的形式为：\n",
    "\n",
    "$$\n",
    "p(x|\\mu)=exp(\\eta^Tx)\n",
    "$$\n",
    "\n",
    "那么和标准式比较后有：\n",
    "- $u(x)=x$\n",
    "- $h(x)=1$\n",
    "- $g(\\eta)=1$\n",
    "\n",
    "参数$\\mu_k$满足以下限制：\n",
    "\n",
    "$$\n",
    "\\sum_{k=1}^M=1 \\tag{2.209}\n",
    "$$\n",
    "\n",
    "在给出限制后，分布式就变成了如下形式：\n",
    "![](https://raw.githubusercontent.com/data2world/PRML_Note/master/IMG/CH02/else6.png)\n",
    "\n",
    "令\n",
    "$$\n",
    "\\ln\\left(\\frac{\\mu_k}{1-\\sum_j\\mu_j}=\\eta_k\\right) \\tag {2.212}\n",
    "$$\n",
    "\n",
    "同样的，可以从其中解出$\\mu_k$\n",
    "\n",
    "$$\n",
    "\\mu_k=\\frac{\\mathrm{exp}(\\eta_k)}{1+\\sum_j\\mathrm{exp}(\\eta_j)} \\tag{2.213}\n",
    "$$\n",
    "\n",
    "上面的式子叫做**softmax函数**\n",
    "\n",
    "此时，指数族的分布形式为：\n",
    "\n",
    "$$\n",
    "p(x|\\eta)=\\left(1+\\sum_{k=1}^{M-1}\\mathrm{exp}(\\mu_k)\\right)^{-1}\\mathrm{exp}(\\mu^Tx)\n",
    "$$\n",
    "\n",
    "此时参数向量$\\eta=(\\eta_1,...,\\eta_{M-1},0)^T$。之后和标准式比较后有：\n",
    "- $u(x)=x$\n",
    "- $h(x)=1$\n",
    "- $g(\\eta)=\\left(1+\\sum_{k=1}^{M-1}\\mathrm{exp}(\\eta_k)\\right)^{-1}$"
   ]
  },
  {
   "cell_type": "markdown",
   "metadata": {},
   "source": [
    "### 高斯分布推导指数分布族\n",
    "\n",
    "![](https://raw.githubusercontent.com/data2world/PRML_Note/master/IMG/CH02/else7.png)\n",
    "\n",
    "- $\\eta=\\begin{pmatrix} \\mu/\\sigma^2 \\\\\\\\ -1/2\\sigma^2 \\\\\\\\ \\end{pmatrix}$\n",
    "- $u(x)=\\begin{pmatrix} x \\\\\\\\ x^2\\end{pmatrix}$\n",
    "- $h(x)=(2\\pi)^{-1/2}$\n",
    "- $g(\\eta)=(-2\\eta_2)^{1/2}\\mathrm{\\left(\\frac{\\eta^2_1}{4\\eta_2}\\right)}$"
   ]
  },
  {
   "cell_type": "markdown",
   "metadata": {
    "collapsed": true
   },
   "source": [
    "---\n",
    "## 2.4.1 最大似然与充分统计量\n",
    "---"
   ]
  },
  {
   "cell_type": "markdown",
   "metadata": {
    "collapsed": true
   },
   "source": [
    "### 最大似然估计指数族参数$\\eta$\n",
    "\n",
    "设$\\vec{x}=(x_1,...,x_n)$是来自密度函数$p(x|\\theta)$的一个样本，则其乘积：\n",
    "\n",
    "$$\n",
    "p(\\vec{x}|\\theta)=\\prod_{i=1}^np(x_i|\\theta)\n",
    "$$\n",
    "\n",
    "- 当$\\theta$给定时，$p(\\vec{x}|\\theta)$是样本$\\vec{x}$联合密度函数.\n",
    "- 当样本$\\vec{x}$的观察值给定时，$p(\\vec{x}|\\theta)$是参数$\\theta$的函数，叫做似然函数。记做$L(\\theta)$"
   ]
  },
  {
   "cell_type": "markdown",
   "metadata": {
    "collapsed": true
   },
   "source": [
    "在指数族中，我们使用最大似然法对参数向量$\\eta$进行估计。对$g(\\eta)\\int h(x)\\mathrm{exp}\\{\\eta^Tu(x)\\}\\mathrm{dx}$的两侧取关于参数$\\eta$的梯度。有：\n",
    "\n",
    "$$\n",
    "\\nabla g(\\eta)\\int h(x)\\mathrm{exp}\\{\\eta^Tu(x)\\}\\mathrm{dx}+g(\\eta)\\int h(x)\\mathrm{exp}\\{\\eta^Tu(x)\\}u(x)\\mathrm{dx}=0 \\tag{2.224}\n",
    "$$\n",
    "合并整理：\n",
    "\n",
    "$$\n",
    "-\\frac{1}{g(\\eta)}\\nabla g(\\eta)=g(\\eta)\\int h(x)\\mathrm{exp}\\{\\eta^Tu(x)\\}u(x)\\mathrm{dx}=\\Bbb{E}[u(x)] \\tag{2.225}\n",
    "$$\n",
    "\n",
    "得到：\n",
    "\n",
    "$$\n",
    "-\\nabla \\ln g(\\eta)=\\Bbb{E}[u(x)] \\tag{2.226}\n",
    "$$\n"
   ]
  },
  {
   "cell_type": "markdown",
   "metadata": {
    "collapsed": true
   },
   "source": [
    "$\\Bbb{E}$是$u(x)$的期望。$u(x)$的协方差可以利用$g(\\eta)$的二阶导表示。"
   ]
  },
  {
   "cell_type": "markdown",
   "metadata": {
    "collapsed": true
   },
   "source": [
    "### 充分统计量\n",
    "\n",
    "从上面的估计可以看出，最大似然的解只通过$\\Bbb{E}[u(x)]$产生依赖。这个统计量可以叫做充分统计量（[sufficient statistic](https://zh.wikipedia.org/wiki/%E5%85%85%E5%88%86%E7%BB%9F%E8%AE%A1%E9%87%8F)）。\n",
    "\n",
    "充分统计量不需要整个数据本身，只需要存储充分统计量的值就行了。例如：**伯努利分布，函数$u(x)$等于$x$，所以只需要存储数据点${x_n}$的和**\n",
    "\n",
    "在以后的章节中会详细介绍充分统计量，此处不表。"
   ]
  },
  {
   "cell_type": "markdown",
   "metadata": {
    "collapsed": true
   },
   "source": [
    "---\n",
    "## 2.4.2 共轭先验\n",
    "---\n",
    "\n",
    "**常用的共轭先验分布**\n",
    "\n",
    "|总体分布 | 参数 | 共轭先验分布 |\n",
    "|:- | :-: | -: |\n",
    "|二项分布 | 成功概率| 贝塔分布$Be(\\alpha,\\beta)$ |\n",
    "|泊松分布 | 均值 | 伽马分布$Ga(\\alpha,\\lambda)$ |\n",
    "|指数分布 | 均值的倒数 | 伽马分布$Ga(\\alpha,\\lambda)$|\n",
    "|正态分布（方差已知）|均值| 正态分布$N(\\mu,\\tau^2)$|\n",
    "|正态分布（均值已知）|方差| 倒伽马分布$IGa(\\alpha,\\lambda)$|\n",
    "\n",
    "**对指数分布族的任何成员，都存在一个共轭先验**：\n",
    "$$\n",
    "p(\\eta|\\chi,\\nu)=f(\\chi,\\nu)g(\\eta)^{\\nu}\\mathrm{exp\\{\\nu\\eta^T\\chi\\}} \\tag{2.229}\n",
    "$$\n",
    "\n",
    "其中$f(\\chi,\\nu)$是归一化系数，\n",
    "\n",
    "\n",
    "**后验概率为**\n",
    "$$\n",
    "p(\\eta|X,\\chi,\\nu) \\propto g(\\eta)^{\\nu+N}\\mathrm{exp}\\left\\{ \\eta^T\\left(\\sum^N_{n=1}u(x_n)+\\nu \\chi \\right) \\right\\} \\tag{2.230}\n",
    "$$"
   ]
  },
  {
   "cell_type": "markdown",
   "metadata": {
    "collapsed": true
   },
   "source": [
    "---\n",
    "## 2.4.3 无信息先验\n",
    "\n",
    "\n",
    "我们知道**贝叶斯统计推断**的特点就是利用先验信息（**经验和历史数据**）构成先验分布。但是如果当这些已知的先验信息不知道，我们怎么进行统计推断？\n",
    "\n",
    "### 贝叶斯假设\n",
    "\n",
    "我们在事先不知道的情况下，对所发生的事做均等的判断，应该是公正公平的。比如有参数$\\theta$,我们不知道这个参数的所有信息。然后将参数$\\theta$的取值范围上的均匀分布看做是$\\theta$的先验分布。\n",
    "\n",
    "$$\n",
    "\\pi(\\theta)=\\begin{cases} c, & \\theta \\in \\Theta \\\\\\\\ \n",
    "0, & \\theta \\notin \\Theta \\end{cases}\n",
    "$$\n",
    "\n",
    "上面$\\Theta$是$\\theta$的取值范围。贝叶斯假设有两个麻烦的地方：\n",
    "\n",
    "- **1）当$\\theta$的取值为无限区间时，在$\\Theta$上无法定义一个正常的均匀分布。所以引出广义先验分布的概念：**\n",
    ">**广义先验分布的定义**\n",
    "$$\n",
    "\\pi(\\theta) \\geq 0 , \\int_\\Theta\\pi(\\theta)d\\theta=\\infty\n",
    "$$\n",
    "\n",
    "\n",
    "上式说明了，即使在$\\Theta$上分布不正常，但是不影响后面的后验分布的计算。这样我们称$\\pi(\\theta)$为$\\theta$的广义先验分布。\n",
    "\n",
    "- **2) 贝叶斯假设不满足变换下的不变性**\n",
    "> **举个例子**<br>\n",
    "正态分布的标准差为$\\sigma$，参数空间为$(0, \\infty)$。假设定义一个变换：\n",
    "$$\n",
    "\\eta=\\sigma^2 \\in(0, \\infty)\n",
    "$$\n",
    "那么$\\eta$就是所谓的正态方差。也就是说。$\\eta$和$\\sigma$在参数空间上是一一对应的。但是：**假设$\\pi(\\theta)$是$\\theta$的密度函数**，那么$\\eta$的密度函数：\n",
    "$$\n",
    "\\pi(\\eta)=\\left | \\frac{\\mathrm{d} \\sigma}{\\mathrm{d} \\eta} \\right |\\pi(\\sqrt{\\eta})=\\frac{1}{2\\sqrt{\\eta}}\\pi(\\sqrt{\\eta})\n",
    "$$\n",
    "\n",
    "所以的概率密度就不再是常数了，与**贝叶斯假设矛盾**。\n",
    "\n",
    "**那么既然不能随意设定一个常数为某参数的先验分布，那无信息先验的分布怎么确定呢？这里提出两个方法，这两种方法需要知道参数在总体分布的地位，是位置参数函数尺度参数，这里需要用到总体分布的信息**"
   ]
  },
  {
   "cell_type": "markdown",
   "metadata": {},
   "source": [
    "### 位置参数的无信息先验\n",
    "\n",
    "推导可以看**参考文献2**。位置参数具有平移不变性。如下图所示\n",
    "![](https://raw.githubusercontent.com/data2world/PRML_Note/master/IMG/CH02/else8.png)\n",
    "\n",
    "**无信息先验分布为**\n",
    "$$\n",
    "\\pi(\\theta)=1\n",
    "$$\n",
    "\n",
    "\n",
    "**例子：**\n",
    "设$x_1,..., x_n$是来自正态总体$N(\\theta, \\sigma^2)$的一个样本。其中$\\sigma^2$已知。其充分统计量$\\bar{x}$的分布为$N(\\theta, \\sigma^2/n)$。怎么估计参数$\\theta$?\n",
    "\n",
    "**解**：<br>\n",
    "没有先验信息，所以只能使用无信息先验。\n",
    "\n",
    "$$\n",
    "\\pi(\\theta)=1\n",
    "$$\n",
    "\n",
    "根据贝叶斯公式计算$\\theta$的后验分布：\n",
    "\n",
    "$$\n",
    "\\pi(\\theta|x)=p(x|\\theta)\\pi(\\theta)/m(x)\n",
    "$$\n",
    "\n",
    "其中$m(x)$不依赖$\\theta$，可以忽略。又因为充分统计量$\\bar{x}$,给定$\\bar{x}$,那么$\\theta$的后验分布就是$N(\\bar{x}, \\sigma^2/n)$。"
   ]
  },
  {
   "cell_type": "markdown",
   "metadata": {},
   "source": [
    "### 尺度参数的无信息先验\n",
    "设总体的$X$的密度函数具有$\\frac{1}{\\sigma}p(\\frac{x}{\\sigma})$，其中$\\sigma$称为尺度参数。引入尺度参数的效果是拉伸($\\sigma>1$)或者压缩($\\sigma<1$)，而保持**基本形状**不变。如下图所示\n",
    "![](https://raw.githubusercontent.com/data2world/PRML_Note/master/IMG/CH02/else9.png)\n",
    "\n",
    "**具体导出过程请参阅参考文献【2】**\n",
    "\n",
    "**给出尺度参数的无信息先验为：**\n",
    "$$\n",
    "\\pi(\\sigma)=\\sigma^{-1}, \\sigma>0\n",
    "$$\n",
    "\n"
   ]
  },
  {
   "cell_type": "markdown",
   "metadata": {
    "collapsed": true
   },
   "source": [
    "## Refrence\n",
    "- [1] http://www.cs.columbia.edu/~jebara/4771/tutorials/lecture12.pdf\n",
    "- [2] https://book.douban.com/subject/19979201/\n",
    "- [3] https://people.eecs.berkeley.edu/~jordan/courses/281A-fall04/lectures/lec-10-5.pdf"
   ]
  },
  {
   "cell_type": "code",
   "execution_count": null,
   "metadata": {
    "collapsed": true
   },
   "outputs": [],
   "source": []
  }
 ],
 "metadata": {
  "kernelspec": {
   "display_name": "Python 2",
   "language": "python",
   "name": "python2"
  },
  "language_info": {
   "codemirror_mode": {
    "name": "ipython",
    "version": 2
   },
   "file_extension": ".py",
   "mimetype": "text/x-python",
   "name": "python",
   "nbconvert_exporter": "python",
   "pygments_lexer": "ipython2",
   "version": "2.7.13"
  },
  "toc": {
   "nav_menu": {},
   "number_sections": false,
   "sideBar": true,
   "skip_h1_title": false,
   "toc_cell": false,
   "toc_position": {},
   "toc_section_display": "block",
   "toc_window_display": true
  }
 },
 "nbformat": 4,
 "nbformat_minor": 2
}
