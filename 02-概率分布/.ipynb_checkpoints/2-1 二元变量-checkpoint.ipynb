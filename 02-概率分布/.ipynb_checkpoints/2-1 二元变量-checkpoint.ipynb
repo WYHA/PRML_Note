{
 "cells": [
  {
   "cell_type": "markdown",
   "metadata": {},
   "source": [
    "## 2.1.1 伯努利分布\n",
    "---\n",
    "\n",
    "考虑抛一个损坏的硬币的实验， 如果抛正面为1， 抛反面为0， 那么有如下二元随机变量$x\\in\\{0,1\\}$。因为硬币是损坏的，所以抛正反面的概率不一定相同，现在我们假设抛正面的概率是$\\mu$，即$x=1$的概率为$\\mu$。因此有：\n",
    "$$p(x=1|\\mu)=\\mu p(x=0|\\mu)=1-\\mu$$\n",
    "所以$x$的概率分布可以写成：\n",
    "$$Bern(x|\\mu)=\\mu^x(1-\\mu)^{1-x}$$\n",
    "这就是最简单的伯努利分布（0-1分布），\n",
    "\n",
    "- 期望：\n",
    "$$E[X]=\\mu$$\n",
    "\n",
    "- 方差：\n",
    "$$Var[x]=\\mu(1-\\mu)$$\n"
   ]
  },
  {
   "cell_type": "markdown",
   "metadata": {
    "collapsed": true
   },
   "source": [
    "## 2.1.2 二项分布\n",
    "---\n",
    "现在我们假设有个$x$的观测集$D={x_1,...,x_N}$，假设每次构造都是从$p(x|\\mu)$中独立地抽取。构造$\\mu$的似然函数如下：\n",
    "$$p(D|\\mu) = \\prod ^N_{n=1}p(x_n|\\mu)=\\prod ^N_{n=1}\\mu^{x_n}(1-\\mu)^{1-x_n}$$\n",
    "等式两边取对数有：\n",
    "\n",
    "$$\\ln p(D|\\mu)=\\sum ^N_{n=1}\\ln p(x_n|\\mu)=\\sum ^N_{n=1}\\{x_n\\ln \\mu + (1-x_n)\\ln (1-\\mu)\\}$$\n",
    "另上式关于$\\mu$的导数为零，那么得到最大似然的估计值：\n",
    "$$\\mu_{ML}=\\frac{1}{N}\\sum^{N}_{n=1}x_n$$\n",
    "如果我们把正面朝上（$x=1$）的观测的数量记为$m$，那么上述公式为:\n",
    "$$\\mu_{ML}=\\frac{m}{N}$$\n",
    "$x=1$的观测出现$m$的概率分布，这被称为二项分布，在N此抛硬币的过程中，我们需要把所有获得$m$个正面朝上的方式加起来，那么得到：\n",
    "$$Bin(m|N,\\mu)= \\binom{N}{m}\\mu^m(1-\\mu^{N-m})$$\n",
    "<br>\n",
    "\n",
    "- 期望\n",
    "$$E[m]=\\sum^N_{m=0}mBin(m|N,\\mu)=N\\mu$$\n",
    "\n",
    "- 方差\n",
    "$$Var[m]=\\sum^N_{m=0}(m-E[m])^2Bin(m|N,\\mu)=N\\mu(1-\\mu)$$\n",
    "下图给出了$N=10 $,$\\mu=0.25$的示意图\n",
    "\n",
    "<center>\n",
    "\n",
    "![image](https://raw.githubusercontent.com/data2world/PRML_Note/master/IMG/CH02/2.1.png)\n",
    "</center>"
   ]
  },
  {
   "cell_type": "markdown",
   "metadata": {},
   "source": [
    "## 2.1.3 Beta分布\n",
    "---\n",
    "先看一个[很通俗的解释](https://www.zhihu.com/question/30269898)\n",
    "\n",
    "现假设我们抛3次硬币，碰巧三次都是正面朝上，那么依据二项分布$\\mu_{ML}=1$，这种情况下，最大似然的结果预测所有未来的观测都是正面朝上，对这种小规模的数据集比较容易出现过拟合，此时我们需要利用贝叶斯的观点来看待这个问题。\n",
    "\n",
    "**引入Beta分布**\n",
    "\n",
    "$$Beta(\\mu|a,b)=\\frac{\\Gamma (a+b)}{\\Gamma (a)\\Gamma (b)}\\mu^{a-1}(1-\\mu)^{b-1}$$\n",
    "\n",
    "$\\Gamma (x)$函数保证了Beta函数归一化，即：\n",
    "$$\\int^1_0 Beta(\\mu|a,b)\\mathrm{d}\\mu=1$$\n",
    "\n",
    "Beta分布的期望和方差：\n",
    "\n",
    "- 期望\n",
    "$$E[\\mu]=\\frac{a}{a+b}$$\n",
    "\n",
    "- 方差\n",
    "$$Var[\\mu]=\\frac{ab}{(a+b)^2(a+b+1)}$$\n",
    "参数a和b通常称作超参数，因为他们控制了参数$\\mu$的概率分布，下面给出不同超参数对应的Beta分布的图像。\n",
    "下面我们给出$\\mu$的后验概率分布形式：\n",
    "$$p(\\mu|m,l,a,b)\\propto \\mu^{m+a-1}(1-\\mu)^{l+b-1}$$\n",
    "\n",
    "<center>\n",
    "\n",
    "![image](https://raw.githubusercontent.com/data2world/PRML_Note/master/IMG/CH02/2.2.png)\n",
    "</center>\n",
    "\n",
    "\n",
    "其中$l=N-m$，即对应硬币反面朝上的样本数量。归一化系数后：\n",
    "$$p(\\mu|m,l,a,b) = \\frac{\\Gamma (m+a+l+b)}{\\Gamma (m+a)\\Gamma (l+b)}\\mu^{m+a-1}(1-\\mu)^{l+b-1}$$\n",
    "我们在观测到更多的数据后，可以将后验概率作为先验概率。更新的方法是将当前后验分布与新观测的似然函数相乘，然后归一化，获得修正后的后验分布。下图说明了这个步骤。\n",
    "\n",
    "<center>\n",
    "\n",
    "![image](https://raw.githubusercontent.com/data2world/PRML_Note/master/IMG/CH02/2.3.png)\n",
    "</center>\n",
    "\n",
    "从图2中可以看出，当观测的数量增加时，后验分布的图像越来越尖。我们从Beta分布的方差可以看出当$a\\rightarrow \\infty $或者$b\\rightarrow \\infty $，方差趋于零，随着我们观测到的数据越来越多，后验概率的不确定性越小。"
   ]
  },
  {
   "cell_type": "code",
   "execution_count": null,
   "metadata": {
    "collapsed": true
   },
   "outputs": [],
   "source": []
  }
 ],
 "metadata": {
  "kernelspec": {
   "display_name": "Python 2",
   "language": "python",
   "name": "python2"
  },
  "language_info": {
   "codemirror_mode": {
    "name": "ipython",
    "version": 2
   },
   "file_extension": ".py",
   "mimetype": "text/x-python",
   "name": "python",
   "nbconvert_exporter": "python",
   "pygments_lexer": "ipython2",
   "version": "2.7.13"
  },
  "toc": {
   "nav_menu": {},
   "number_sections": false,
   "sideBar": true,
   "skip_h1_title": false,
   "toc_cell": false,
   "toc_position": {},
   "toc_section_display": "block",
   "toc_window_display": true
  }
 },
 "nbformat": 4,
 "nbformat_minor": 2
}
