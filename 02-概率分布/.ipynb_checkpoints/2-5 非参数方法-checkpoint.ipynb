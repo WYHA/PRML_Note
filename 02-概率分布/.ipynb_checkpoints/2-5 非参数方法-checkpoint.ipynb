{
 "cells": [
  {
   "cell_type": "markdown",
   "metadata": {
    "collapsed": true
   },
   "source": [
    "## 2.5.0 前言\n",
    "---\n",
    "**统计中的参数方法和非参数方法**\n",
    "- **参数方法:**<br>\n",
    "前面讲的概率分布都是有着具体的函数形式，并有少量的参数控制，这些参数的可以由数据集确认。这种估计概率密度的方法叫做参数估计。参数估计比如有：**点估计**、**区间估计**。参数估计就是利用手中的数据（从总体抽样得到），去分析推断出总体的分布或者是数字特征（均值、方差等）\n",
    "- **非参数方法**<br>\n",
    "当我们遇到多峰分布的情况，那么这种分布不可能被⾼斯分布描述，因为它是单峰的。这样就迫使我们必须用样本来推断总体分布，常见的总体类条件概率密度估计方法有Parzen窗法和近邻法两种。这一节主要讨论简单的频率学派学家的观点。【非参数贝叶斯以后会谈到，比如DP、HDP算法等】"
   ]
  },
  {
   "cell_type": "markdown",
   "metadata": {},
   "source": [
    "在讲核密度估计的时候，我们先来看看**直方图**是怎么来做估计的："
   ]
  },
  {
   "cell_type": "code",
   "execution_count": 1,
   "metadata": {
    "collapsed": true
   },
   "outputs": [],
   "source": [
    "import numpy as np\n",
    "import seaborn as sns\n",
    "import matplotlib.pyplot as plt\n",
    "%matplotlib inline"
   ]
  },
  {
   "cell_type": "code",
   "execution_count": 6,
   "metadata": {
    "collapsed": true
   },
   "outputs": [],
   "source": [
    "x = np.random.rand(50)"
   ]
  },
  {
   "cell_type": "code",
   "execution_count": 56,
   "metadata": {
    "collapsed": true
   },
   "outputs": [],
   "source": [
    "x1 = np.random.normal(0.9,0.15,250)\n",
    "x2 = np.random.normal(0.2,0.15,250)\n",
    "x_all = np.append(x1,x2)"
   ]
  },
  {
   "cell_type": "code",
   "execution_count": 57,
   "metadata": {},
   "outputs": [
    {
     "data": {
      "text/plain": [
       "<matplotlib.axes._subplots.AxesSubplot at 0x7f3598caae90>"
      ]
     },
     "execution_count": 57,
     "metadata": {},
     "output_type": "execute_result"
    },
    {
     "data": {
      "image/png": "[encoded data removed]",
      "text/plain": [
       "<matplotlib.figure.Figure at 0x7f359add5f90>"
      ]
     },
     "metadata": {},
     "output_type": "display_data"
    }
   ],
   "source": [
    "fig = plt.figure(figsize=(10,9))\n",
    "ax1 = fig.add_subplot(311)\n",
    "ax2 = fig.add_subplot(312)\n",
    "ax3 = fig.add_subplot(313)\n",
    "\n",
    "sns.distplot(x_all, bins=25, kde=False, rug=True, ax=ax1)\n",
    "sns.distplot(x_all, bins=12, kde=False, rug=True,ax=ax2)\n",
    "sns.distplot(x_all, bins=4, kde=False, rug=True,ax=ax3)"
   ]
  },
  {
   "cell_type": "markdown",
   "metadata": {},
   "source": [
    "![](https://raw.githubusercontent.com/data2world/PRML_Note/master/IMG/CH02/2.24.png)\n",
    "\n",
    "从上面的图可以看出：\n",
    "- 生成的概率分布和bins的取值有关\n",
    "\n",
    "直方图的应用一般在一维或者是二维的数据上很有用，但并不适用于大多数概率密度估计。有几个缺点：\n",
    "- 估计的概率密度具有不连续性\n",
    "- 直方图会造成维数放大，当高维数据进行直方图时会造成维度灾难\n",
    "\n",
    "**下面介绍两种非参数估计的方法，这两种方法都对维度放大有很好的适应性**"
   ]
  },
  {
   "cell_type": "markdown",
   "metadata": {},
   "source": [
    "**---**\n",
    "## 2.5.1 核密度估计\n",
    "---\n",
    "\n",
    "核密度估计的方法和直方图估计的原理类似，不过它多了一个用于平滑数据的核函数。下面是一些公式的推导\n",
    "\n",
    "$$\n",
    "P = \\int_\\cal{R}p(x)\\mathrm{d(x)}  \\tag{2.242}\n",
    "$$\n",
    "\n",
    "**目标**：估计某个空间$\\cal{D}$的概率密度分布$p(x)$，上式先考虑局部$\\cal{R}$的概率质量\n",
    "\n",
    "因为是小区域，那么整个孔家有落在局部$\\cal{R}$和不落在这个局部的点。我们这落在局部$\\cal{R}$的点的总数$K$服从二项分布：\n",
    "\n",
    "$$\n",
    "\\mathrm{Bin}(K|N,P)=\\frac{N!}{K!(N-K)!}P^K(1-P)^{N-K} \\tag{2.43}\n",
    "$$\n",
    "根据二项分布的定理：\n",
    "- 均值为$E[\\frac{K}{N}]=P$\n",
    "- 方差为$VAR[\\frac{K}{N}]=\\frac{P(1-P)}{N}$\n",
    "\n",
    "当$N$值很大很大时，有：\n",
    "$$\n",
    "K\\simeq NP \\tag{2.244}\n",
    "$$\n",
    "\n",
    "另一方面，我们假设区域$\\cal{R}$很小，那么有：\n",
    "$$\n",
    "P\\simeq p(x)V \\tag{2.245}\n",
    "$$\n",
    "\n",
    "其中$V$是区域$\\cal{R}$的体积，结合式（2.244）和式（2.245）有如下：\n",
    "\n",
    "$$\n",
    "p(x)=\\frac{K}{NV} \\tag{2.246}\n",
    "$$\n",
    "\n",
    "从式（2.246）可以得到：\n",
    "- 固定$K$，确定$V$。那么就是**K近邻法**\n",
    "- 固定$V$，确定$K$。就是**核密度法**"
   ]
  },
  {
   "cell_type": "markdown",
   "metadata": {},
   "source": [
    "### Parzen 窗口\n",
    "\n",
    "我们先把局部区域取成以$x$为中心的小超立方体， 如下图所示：\n",
    "![](https://raw.githubusercontent.com/data2world/PRML_Note/master/IMG/CH02/else1.png)\n",
    "\n",
    "为了对落在这个区域的点进行计数，我们定义以下函数：\n",
    "\n",
    "$$\n",
    "k(u)=\n",
    "        \\begin{cases}\n",
    "        1,  & |u_i| \\leq \\frac{1}{2}, i=1,...,D \\\\\\\\\n",
    "        0, & \\text{其他情况}\n",
    "        \\end{cases}  \\tag{2.247}\n",
    "$$\n",
    "\n",
    "上面定义是一种核函数，这种核函数是以原点为中心的核函数。也就是说，如果点$x$在立方体中，那么$k(\\frac{x-x_n}{h})$等于1，不在就等于0.举个例子如下：\n",
    "\n",
    "- 数据集是$X=\\{4, 5, 5, 6, 12, 14, 15, 15, 16, 17\\}$。设$y=4$，请确定$p(x)$在$3, 10, 15$的密度估计\n",
    "![](https://raw.githubusercontent.com/data2world/PRML_Note/d0ae76f3a3b8d54f8c67dc50c826d20481fece2b/IMG/CH02/else2.png)\n",
    "\n",
    "\n",
    "我们先来估计$p(x=3)$\n",
    "$$\n",
    "p(x=3)=\\frac{1}{Nh^D}\\sum_{n=1}^NK\\left(\\frac{x-x^{(n}}{h}\\right)=\\frac{1}{10\\times4^1}\\left[K\\left(\\frac{3-4}{4}\\right)+K\\left(\\frac{3-5}{4}\\right)+...+K\\left(\\frac{3-17}{4}\\right)\\right]=0.0025\n",
    "$$\n",
    "\n",
    "同理：\n",
    "$p(x=10)=0$\n",
    "$p(x=15)=0.1$\n",
    "\n",
    "\n",
    "### Parzen 的缺点\n",
    "- Parzen产生的密度估计是不连续的，【核函数的选择】\n",
    "- 还有就是核函数的权重都是一样的，忽略了数据集点对$x$的距离\n",
    "\n",
    "\n",
    "### 高斯核函数\n",
    "\n",
    "针对Parzen窗口法的缺点，我们可以使用平滑的的核函数代替，比如高斯核函数。\n",
    "$$\n",
    "K(x)=(2\\pi)^{-D/2}e^{-\\frac{1}{2}x^Tx}\n",
    "$$\n",
    "\n",
    "那么密度估计就变成了：\n",
    "$$\n",
    "P(x)= \\frac{1}{N}\\sum^N_{n=1}\\frac{1}{(2\\pi h^2)^{\\frac{D}{2}}}\\mathrm{exp}\\left\\{-\\frac{\\left \\|x-x_n\\right \\|^2}{2h^2}\\right\\} \\tag{2.250}\n",
    "$$\n",
    "\n",
    "![](https://raw.githubusercontent.com/data2world/PRML_Note/d0ae76f3a3b8d54f8c67dc50c826d20481fece2b/IMG/CH02/else3.png)\n",
    "\n",
    "### 核函数条件\n",
    "\n",
    "$$\n",
    "k(u)\\geq 0 \\tag{2.251} \n",
    "$$\n",
    "\n",
    "$$\n",
    "\\int k(u) \\mathrm{du} \\tag{2.252}\n",
    "$$\n",
    "\n",
    "\n",
    "\n"
   ]
  },
  {
   "cell_type": "markdown",
   "metadata": {},
   "source": [
    "---\n",
    "## 2.5.2 近邻方法\n",
    "---\n",
    "\n",
    "上面我们说到了，固定下面式子的$k$, 确定$V$ 。那么就是K近邻法\n",
    "$$\n",
    "p(x)=\\frac{K}{NV} \\tag{2.246}\n",
    "$$\n",
    "\n",
    "**很明显，确定K的值，决定了这个方法的好坏程度**。下图展示了不同的K值对概率密度的估计。\n",
    "\n",
    "核密度估计的加权是以数据点到$x$的**欧氏距离**为基准来计算的，而K近邻法估计是无论欧式距离多少，只要是离$x$最近的k个点的其中之一进行加权。\n",
    "\n",
    "$$\n",
    "p(x)=\\frac{k-1}{2nd_k(x)}\n",
    "$$\n",
    "\n",
    "其中$d_k(x)$表示$x$到所有样本点的欧式距离。\n",
    "\n",
    "![](https://raw.githubusercontent.com/data2world/PRML_Note/master/IMG/CH02/2.27.png)\n",
    "\n",
    "**K近邻法时如何推广到机器学习分类算法，之后会详细讨论**\n"
   ]
  },
  {
   "cell_type": "markdown",
   "metadata": {},
   "source": [
    "---\n",
    "## Reference\n",
    "\n",
    "- [1] http://research.cs.tamu.edu/prism/lectures/pr/pr_l7.pdf\n",
    "- [2] https://zh.wikipedia.org/wiki/%E6%A0%B8%E5%AF%86%E5%BA%A6%E4%BC%B0%E8%AE%A1"
   ]
  }
 ],
 "metadata": {
  "kernelspec": {
   "display_name": "Python 2",
   "language": "python",
   "name": "python2"
  },
  "language_info": {
   "codemirror_mode": {
    "name": "ipython",
    "version": 2
   },
   "file_extension": ".py",
   "mimetype": "text/x-python",
   "name": "python",
   "nbconvert_exporter": "python",
   "pygments_lexer": "ipython2",
   "version": "2.7.13"
  },
  "toc": {
   "nav_menu": {},
   "number_sections": false,
   "sideBar": true,
   "skip_h1_title": false,
   "toc_cell": false,
   "toc_position": {},
   "toc_section_display": "block",
   "toc_window_display": true
  }
 },
 "nbformat": 4,
 "nbformat_minor": 2
}
