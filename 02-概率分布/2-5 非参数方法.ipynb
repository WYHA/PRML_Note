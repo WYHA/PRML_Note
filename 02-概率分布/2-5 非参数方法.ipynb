{
 "cells": [
  {
   "cell_type": "markdown",
   "metadata": {
    "collapsed": true
   },
   "source": [
    "**统计中的参数方法和非参数方法**\n",
    "- **参数方法:**<br>\n",
    "前面讲的概率分布都是有着具体的函数形式，并有少量的参数控制，这些参数的可以由数据集确认。这种估计概率密度的方法叫做参数估计。参数估计比如有：**点估计**、**区间估计**。参数估计就是利用手中的数据（从总体抽样得到），去分析推断出总体的分布或者是数字特征（均值、方差等）\n",
    "- **非参数估计**<br>\n",
    "当我们遇到多峰分布的情况，那么这种分布不可能被⾼斯分布描述，因为它是单峰的。这样就迫使我们必须用样本来推断总体分布，常见的总体类条件概率密度估计方法有Parzen窗法和近邻法两种。这一节主要讨论简单的频率学派学家的观点。【非参数贝叶斯以后会谈到，比如DP、HDP算法等】"
   ]
  },
  {
   "cell_type": "markdown",
   "metadata": {},
   "source": [
    "在讲核密度估计的时候，我们先来看看**直方图**是怎么"
   ]
  }
 ],
 "metadata": {
  "kernelspec": {
   "display_name": "Python 2",
   "language": "python",
   "name": "python2"
  },
  "language_info": {
   "codemirror_mode": {
    "name": "ipython",
    "version": 2
   },
   "file_extension": ".py",
   "mimetype": "text/x-python",
   "name": "python",
   "nbconvert_exporter": "python",
   "pygments_lexer": "ipython2",
   "version": "2.7.13"
  },
  "toc": {
   "nav_menu": {},
   "number_sections": true,
   "sideBar": true,
   "skip_h1_title": false,
   "toc_cell": false,
   "toc_position": {},
   "toc_section_display": "block",
   "toc_window_display": false
  }
 },
 "nbformat": 4,
 "nbformat_minor": 2
}
