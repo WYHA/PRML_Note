{
 "cells": [
  {
   "cell_type": "markdown",
   "metadata": {},
   "source": [
    "## 定义"
   ]
  },
  {
   "cell_type": "markdown",
   "metadata": {},
   "source": [
    "设$A$为一个$m \\times n$的实矩阵，$n$阶方阵$G=A^TA$称为Gram矩阵。也有人称为交叉乘积矩阵。这里考虑$A$的向量表达式$[a_1, a_2, ..., a_n], a_i\\in \\Bbb{R}^m$，则：\n",
    "\n",
    "![](https://gitee.com/data2world/PRML/raw/f349a7b68145c292a1a8df181d922c1030c55455/CH06/else0.png)"
   ]
  },
  {
   "cell_type": "markdown",
   "metadata": {},
   "source": [
    "## 基本性質"
   ]
  },
  {
   "cell_type": "markdown",
   "metadata": {},
   "source": [
    "（1）Gram矩阵是对称矩阵。\n",
    "\n",
    "$$\n",
    "g_{ij}=a_i^{T}a_j=a_j^{T}a_i=g_{ji}\n",
    "$$\n",
    "\n",
    "（2）对任一实矩阵$A$, \n",
    "$$\n",
    "\\text{rank}(A^TA)=\\text{rank} A\n",
    "$$\n",
    "\n",
    "（3）若$A^TA=0$，则$A=0$\n",
    "\n",
    "（4）对任一实矩阵$A$，$A^TA$是半正定矩阵。\n",
    "\n",
    "\n"
   ]
  },
  {
   "cell_type": "markdown",
   "metadata": {},
   "source": [
    "## 意义"
   ]
  },
  {
   "cell_type": "markdown",
   "metadata": {},
   "source": [
    "Gram矩阵可以看做feature之间的偏心协方差矩阵（即没有减去均值的协方差矩阵），在feature map中，每个数字都来自于一个特定滤波器在特定位置的卷积，因此每个数字代表一个特征的强度，而Gram计算的实际上是两两特征之间的相关性，哪两个特征是同时出现的，哪两个是此消彼长的等等，同时，Gram的对角线元素，还体现了每个特征在图像中出现的量，因此，Gram有助于把握整个图像的大体风格。有了表示风格的Gram Matrix，要度量两个图像风格的差异，只需比较他们Gram Matrix的差异即可。\n",
    "\n",
    "总之， 格拉姆矩阵用于度量各个维度自己的特性以及各个维度之间的关系。内积之后得到的多尺度矩阵中，对角线元素提供了不同特征图各自的信息，其余元素提供了不同特征图之间的相关信息。这样一个矩阵，既能体现出有哪些特征，又能体现出不同特征间的紧密程度。"
   ]
  },
  {
   "cell_type": "markdown",
   "metadata": {},
   "source": [
    "## 计算实例"
   ]
  },
  {
   "cell_type": "markdown",
   "metadata": {},
   "source": [
    "$x_1=(3,3),x_2=(4,3),x_3=(1,1)$，试计算Gram矩阵\n",
    "\n",
    "```python\n",
    "import numpy as np\n",
    "\n",
    "X = np.array([[3,3], [4,3], [1,1]]) # 这里已经转置了\n",
    "gram = np.dot(X, X.T)\n",
    "gram\n",
    "\n",
    "# array([[18, 21,  6],\n",
    "#        [21, 25,  7],\n",
    "#        [ 6,  7,  2]])\n",
    "\n",
    "\n",
    "```"
   ]
  },
  {
   "cell_type": "markdown",
   "metadata": {},
   "source": [
    "## 参考\n",
    "\n",
    "- 【1】 [特殊矩陣 (14)：Gramian 矩陣](https://ccjou.wordpress.com/2011/03/07/%E7%89%B9%E6%AE%8A%E7%9F%A9%E9%99%A3-14%EF%BC%9Agramian-%E7%9F%A9%E9%99%A3/)\n",
    "- 【2】 [https://www.zhihu.com/question/49805962](https://www.zhihu.com/question/49805962)\n",
    "- 【3】 李航. 统计学习方法[M]. 北京：清华出版社 2012"
   ]
  },
  {
   "cell_type": "code",
   "execution_count": null,
   "metadata": {},
   "outputs": [],
   "source": []
  }
 ],
 "metadata": {
  "kernelspec": {
   "display_name": "Python 3",
   "language": "python",
   "name": "python3"
  },
  "language_info": {
   "codemirror_mode": {
    "name": "ipython",
    "version": 3
   },
   "file_extension": ".py",
   "mimetype": "text/x-python",
   "name": "python",
   "nbconvert_exporter": "python",
   "pygments_lexer": "ipython3",
   "version": "3.6.5"
  },
  "toc": {
   "base_numbering": 1,
   "nav_menu": {},
   "number_sections": false,
   "sideBar": true,
   "skip_h1_title": false,
   "title_cell": "Table of Contents",
   "title_sidebar": "Contents",
   "toc_cell": false,
   "toc_position": {},
   "toc_section_display": true,
   "toc_window_display": true
  }
 },
 "nbformat": 4,
 "nbformat_minor": 2
}
