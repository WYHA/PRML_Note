{
 "cells": [
  {
   "cell_type": "markdown",
   "metadata": {},
   "source": [
    ">在线性回归模型中，我们通过非线性的基函数的线性组合在表达非线性的东西。表达式为：$y=\\mathbf{w}^T\\phi(x_n) $。其中$\\phi(x_n)$是一组非线性的基函数。此时这个模型还是线性的。"
   ]
  },
  {
   "cell_type": "markdown",
   "metadata": {},
   "source": [
    "对平方和误差函数, 后面加了L2正则项：\n",
    "\n",
    "$$\n",
    "J(w)=\\frac{1}{2}\\sum_{n=1}^{N}\\left \\{ w^{T}\\phi(x_{n})-t_{n} \\right \\}^{2}+\\frac{\\lambda }{2}w^{T}w \\tag{6.2}\n",
    "$$\n",
    "\n",
    "对$w$求梯度，并使梯度为零。那么有：\n",
    "\n",
    "$$\n",
    "\\frac{\\partial{J(w)}}{\\partial{w}} = \\sum_{n=1}^N\\{w^T\\phi(x_n)-t_n\\}\\phi(x_n)+\\lambda w = 0\n",
    "$$\n",
    "\n",
    "\n",
    "\n",
    "$$\n",
    "w=-\\frac{1}{\\lambda}\\sum_{n=1}^{N}\\left \\{ w^{T}\\phi(x_{n})-t_{n} \\right \\}\\phi(x_{n})=\\sum_{n=1}^{N}a_{n}\\phi(x_{n})=\\Phi^{T}a\n",
    "$$"
   ]
  },
  {
   "cell_type": "markdown",
   "metadata": {},
   "source": [
    "其中，向量$a=(a_1,...,a_N)^T$。然后我们将$w=\\Phi^{T}a$带入$\\J(w)$，那么有:\n",
    "\n",
    "$$\n",
    "\n",
    "$$"
   ]
  },
  {
   "cell_type": "code",
   "execution_count": null,
   "metadata": {},
   "outputs": [],
   "source": []
  }
 ],
 "metadata": {
  "kernelspec": {
   "display_name": "Python 3",
   "language": "python",
   "name": "python3"
  },
  "language_info": {
   "codemirror_mode": {
    "name": "ipython",
    "version": 3
   },
   "file_extension": ".py",
   "mimetype": "text/x-python",
   "name": "python",
   "nbconvert_exporter": "python",
   "pygments_lexer": "ipython3",
   "version": "3.6.5"
  },
  "toc": {
   "base_numbering": 1,
   "nav_menu": {},
   "number_sections": true,
   "sideBar": true,
   "skip_h1_title": false,
   "title_cell": "Table of Contents",
   "title_sidebar": "Contents",
   "toc_cell": false,
   "toc_position": {},
   "toc_section_display": true,
   "toc_window_display": false
  }
 },
 "nbformat": 4,
 "nbformat_minor": 2
}
