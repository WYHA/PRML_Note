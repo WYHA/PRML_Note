{
 "cells": [
  {
   "cell_type": "markdown",
   "metadata": {},
   "source": [
    ">在线性回归模型中，我们通过非线性的基函数的线性组合在表达非线性的东西。表达式为：$y=\\mathbf{w}^T\\phi(x_n) $。其中$\\phi(x_n)$是一组非线性的基函数。此时这个模型还是线性的。"
   ]
  },
  {
   "cell_type": "markdown",
   "metadata": {},
   "source": [
    "对平方和误差函数, 后面加了L2正则项：\n",
    "\n",
    "$$\n",
    "J(w)=\\frac{1}{2}\\sum_{n=1}^{N}\\left \\{ w^{T}\\phi(x_{n})-t_{n} \\right \\}^{2}+\\frac{\\lambda }{2}w^{T}w \\tag{6.2}\n",
    "$$\n",
    "\n",
    "对$w$求梯度，并使梯度为零。那么有：\n",
    "\n",
    "$$\n",
    "\\frac{\\partial{J(w)}}{\\partial{w}} = \\sum_{n=1}^N\\{w^T\\phi(x_n)-t_n\\}\\phi(x_n)+\\lambda w = 0\n",
    "$$\n",
    "\n",
    "\n",
    "\n",
    "$$\n",
    "w=-\\frac{1}{\\lambda}\\sum_{n=1}^{N}\\left \\{ w^{T}\\phi(x_{n})-t_{n} \\right \\}\\phi(x_{n})=\\sum_{n=1}^{N}a_{n}\\phi(x_{n})=\\Phi^{T}a\n",
    "$$"
   ]
  },
  {
   "cell_type": "markdown",
   "metadata": {},
   "source": [
    "其中，向量$a=(a_1,...,a_N)^T$。然后我们将$w=\\Phi^{T}a$带入$J(w)$，那么有:\n",
    "\n",
    "$$\n",
    "J(a) = \\frac{1}{2}a^T\\Phi\\Phi^T\\Phi\\Phi^Ta - a^T\\Phi\\Phi^Tt + \\frac{1}{2}t^Tt + \\frac{\\lambda}{2}a^T\\Phi\\Phi^Ta \\tag{6.5} \n",
    "$$\n",
    "\n",
    "其中$t = (t_1,...,t_N)^T$。定义**Gram矩阵**$K = \\Phi\\Phi^T$ 。这个矩阵是$N\\times N$的对称矩阵。\n",
    "\n",
    "$$\n",
    "K_{nm} = \\phi(x_n)^T\\phi(x_m) = k(x_n,x_m) \\tag{6.6}\n",
    "$$\n",
    "\n",
    "那么引入核函数$k(x,x')$。平方和误差函数可以写成：\n",
    "\n",
    "$$\n",
    "J(a) = \\frac{1}{2}a^TKKa - a^TKt + \\frac{1}{2}t^Tt + \\frac{\\lambda}a^TKa \\tag{6.7}\n",
    "$$\n",
    "\n",
    "接下来我们对向量$a$进行求值(利用对$a$的梯度为0)：\n",
    "\n",
    "$$\n",
    "a = (K + \\lambda I_N)^{-1}t \\tag{6.8}\n",
    "$$\n",
    "\n",
    "代入线性回归模型后，对新输入的$x$。有：\n",
    "\n",
    "$$\n",
    "y(x) = w^T\\phi(x) = a^T\\Phi\\phi(x) = k(x)^T(K + \\lambda I_N)^{-1}t \\tag{6.9}\n",
    "$$"
   ]
  },
  {
   "cell_type": "markdown",
   "metadata": {},
   "source": [
    "上式中就是根据已知的数据进行预测，而原来的线性回归方程的参数$w$消失，转而使用核函数来表示方程\n",
    "\n",
    "**对偶公式的优点：**\n",
    "\n",
    "- 它可以完全通过核函数$k(x, x')$来表⽰。于是，我们可以直接针对核函数进⾏计算，避免了显式地引⼊特征向量$\\phi(x)$，这使得我们可以隐式地使⽤⾼维特征空间，甚⾄⽆限维特征空间。"
   ]
  },
  {
   "cell_type": "code",
   "execution_count": null,
   "metadata": {},
   "outputs": [],
   "source": []
  }
 ],
 "metadata": {
  "kernelspec": {
   "display_name": "Python 3",
   "language": "python",
   "name": "python3"
  },
  "language_info": {
   "codemirror_mode": {
    "name": "ipython",
    "version": 3
   },
   "file_extension": ".py",
   "mimetype": "text/x-python",
   "name": "python",
   "nbconvert_exporter": "python",
   "pygments_lexer": "ipython3",
   "version": "3.6.5"
  },
  "toc": {
   "base_numbering": 1,
   "nav_menu": {},
   "number_sections": true,
   "sideBar": true,
   "skip_h1_title": false,
   "title_cell": "Table of Contents",
   "title_sidebar": "Contents",
   "toc_cell": false,
   "toc_position": {},
   "toc_section_display": true,
   "toc_window_display": false
  }
 },
 "nbformat": 4,
 "nbformat_minor": 2
}
