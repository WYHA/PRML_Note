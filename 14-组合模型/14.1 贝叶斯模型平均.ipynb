{
 "cells": [
  {
   "cell_type": "markdown",
   "metadata": {},
   "source": [
    "\n"
   ]
  },
  {
   "cell_type": "markdown",
   "metadata": {},
   "source": [
    "我们在建模的过程中，模型往往有着不确定性。比如下面的回归模型：\n",
    "$$\n",
    "y = \\beta_0+\\beta_1x_1+...+\\beta_kx_k+\\epsilon \n",
    "$$\n",
    "\n",
    "如果在回归模型中引入变量$x_2$和$x_3$后，变量$x_1$显著，而当再引入变量$x_4$后，却发现变量$x_1$不显著。因此，在这种情况下，建模者无法判定变量$x_1$和$x_4$哪一个应该被引入到回归模型中来，此即典型的模型不确定问题。"
   ]
  },
  {
   "cell_type": "code",
   "execution_count": null,
   "metadata": {},
   "outputs": [],
   "source": []
  },
  {
   "cell_type": "markdown",
   "metadata": {},
   "source": [
    "这就强调了贝叶斯模型平均和模型组合的⼀个关键的不同，因为在贝叶斯模型平均中，整个数据集由单⼀的模型⽣成。相反，当我们像（14.5）那样组合多个模型时，我们看到数据集中的不同的数据点可以由潜在变量z的不同的值⽣成，即由不同的分量⽣成"
   ]
  },
  {
   "cell_type": "code",
   "execution_count": null,
   "metadata": {},
   "outputs": [],
   "source": []
  },
  {
   "cell_type": "code",
   "execution_count": null,
   "metadata": {},
   "outputs": [],
   "source": []
  },
  {
   "cell_type": "code",
   "execution_count": null,
   "metadata": {},
   "outputs": [],
   "source": []
  },
  {
   "cell_type": "code",
   "execution_count": null,
   "metadata": {},
   "outputs": [],
   "source": []
  },
  {
   "cell_type": "markdown",
   "metadata": {},
   "source": [
    "## 参考\n",
    "\n"
   ]
  }
 ],
 "metadata": {
  "kernelspec": {
   "display_name": "Python 3",
   "language": "python",
   "name": "python3"
  },
  "language_info": {
   "codemirror_mode": {
    "name": "ipython",
    "version": 3
   },
   "file_extension": ".py",
   "mimetype": "text/x-python",
   "name": "python",
   "nbconvert_exporter": "python",
   "pygments_lexer": "ipython3",
   "version": "3.6.5"
  },
  "toc": {
   "base_numbering": 1,
   "nav_menu": {},
   "number_sections": false,
   "sideBar": true,
   "skip_h1_title": false,
   "title_cell": "Table of Contents",
   "title_sidebar": "Contents",
   "toc_cell": false,
   "toc_position": {},
   "toc_section_display": "block",
   "toc_window_display": true
  }
 },
 "nbformat": 4,
 "nbformat_minor": 2
}
