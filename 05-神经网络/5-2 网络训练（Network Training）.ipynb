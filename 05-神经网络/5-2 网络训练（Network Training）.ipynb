{
 "cells": [
  {
   "cell_type": "markdown",
   "metadata": {},
   "source": [
    "神经网络可以看成输入变量到输出变量的参数化非线性函数中的一个大类，想一想将线性回归加上一个sigmoid函数后，就将输出值域“压缩”到了$(0,1)$区间内。\n",
    "\n",
    "同样的，我们给定一个由输入变量${x_n}(n=1,...,N)$组成的训练集，以及对于的目标向量$t_n$组成的集合。我们需要最小化误差函数，来确定神经网络的参数。\n",
    "\n",
    "$$\n",
    "E(w)=\\frac{1}{2}\\sum^N_{n=1}\\left \\| y(x_n,w)-t_n \\right \\|^2\n",
    "$$\n"
   ]
  },
  {
   "cell_type": "markdown",
   "metadata": {},
   "source": [
    "### 5.2.1 参数最优化\n",
    "\n",
    "\n",
    "![](https://gitee.com/data2world/OpimizationPhoto/raw/master/%E7%AC%AC5%E7%AB%A0/5-5.png)"
   ]
  },
  {
   "cell_type": "markdown",
   "metadata": {},
   "source": [
    "### 5.2.2 局部二次近似\n",
    "通过讨论误差函数的局部⼆次近似，我们可以更深刻地认识最优化问题，以及各种解决最优化问题的⽅法。\n"
   ]
  },
  {
   "cell_type": "markdown",
   "metadata": {},
   "source": [
    "### 5.2.3 使用梯度信息"
   ]
  },
  {
   "cell_type": "markdown",
   "metadata": {},
   "source": [
    "### 5.2.4 梯度下降最优化"
   ]
  }
 ],
 "metadata": {
  "kernelspec": {
   "display_name": "Python 2",
   "language": "python",
   "name": "python2"
  },
  "language_info": {
   "codemirror_mode": {
    "name": "ipython",
    "version": 2
   },
   "file_extension": ".py",
   "mimetype": "text/x-python",
   "name": "python",
   "nbconvert_exporter": "python",
   "pygments_lexer": "ipython2",
   "version": "2.7.13"
  }
 },
 "nbformat": 4,
 "nbformat_minor": 2
}
