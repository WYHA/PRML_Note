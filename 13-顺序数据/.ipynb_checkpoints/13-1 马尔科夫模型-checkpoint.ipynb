{
 "cells": [
  {
   "cell_type": "markdown",
   "metadata": {},
   "source": [
    "## 确定与不确定\n",
    "\n",
    "第13章讲的是顺序数据。生活中我们的很多数据是有顺序，有前后关系的，比如语言、文章等。对于这类数据最容易想到的处理方法就是统计中的马尔科夫模型。那么什么是马尔科夫模型？记着马尔科夫模型是在大二中的《随机过程》里面学习的，那么既然有**随机的系统**就会有**确定的系统**。\n",
    "\n",
    "- **确定的系统：**例如交通信号灯的转换。<font color=red>**红色**</font>$\\to$<font color=yellow>**黄色**</font>$\\to$<font color=green>**绿色**</font>。这种交通信号的转换过程是确定的。即转态间的转移是确定的。\n",
    "\n",
    "- **马尔科夫：** 马尔科夫过程是随机的系统，例如天气的变化。当然马尔科夫有一个**马尔科夫假设：** *假设模型的当前状态仅仅依赖于前面的几个状态*"
   ]
  },
  {
   "cell_type": "markdown",
   "metadata": {},
   "source": [
    "## 马尔科夫链\n",
    "\n",
    "我们可以使用概率模型的方式来表示马尔科夫模型：\n",
    "$$\n",
    "p(x_1,...,x_N) = p(x_1)\\prod\\limits_{n=2}^Np(x_n|x_1,...,x_{n-1}) \\tag{13.1}\n",
    "$$\n",
    "\n",
    "上式当$n=2$时，状态依赖$x_1$；当$n=3$时，状态依赖$x_1$和$x_2$；当$n=4$时，状态依赖$x_1$、$x_2$、$x_3$。依次类推。那如果假设**当前的状态**只与**前一个状态**有关，例如**今天是否下雨**只和**昨天的天气有关**。那么这就是**一阶马尔科夫链**如图13.3所示。这个模型的$N$次观测序列的联合概率分布为:\n",
    "\n",
    "$$\n",
    "p(x_1,...,x_N) = p(x_1)\\sum\\limits_{n=2}^Np(x_n|x_{n-1}) \\tag{13.2}\n",
    "$$\n",
    "\n",
    "![](https://github.com/data2world/PRML_Note/blob/master/IMG/CH13/13-3.png)"
   ]
  },
  {
   "cell_type": "markdown",
   "metadata": {},
   "source": [
    "当然如果我们想要前两次的状态预测当前的状态就是**二阶马尔科夫链**，如图13.4所⽰。现在，联合概率分布为：\n",
    "\n",
    "$$\n",
    "p(x_1,...,x_N) = p(x_1)p(x_2|x_1)\\prod\\limits_{n=3}^Np(x_n|x_{n-1},x_{n_2}) \\tag{13.4}\n",
    "$$\n",
    "\n",
    "![](https://github.com/data2world/PRML_Note/blob/master/IMG/CH13/13-4.png)"
   ]
  },
  {
   "cell_type": "markdown",
   "metadata": {},
   "source": [
    "可以预见的是：阶数越多，那么需要训练的参数就越多。假设观测是具有$K$个状态的离散变量。我们另$K=3$,对应晴天、雨天、多云。\n",
    "\n",
    "- **一阶马尔科夫链：** 条件概率为$p(x_n|x_{n-1})$对应由$K-1=2$个参数指定。而每个$x_{n-1}$有$K=3$个状态。即一共有$K(K-1)=6$个参数。\n",
    "- **M阶马尔科夫链：** 因为每参数对应的$x_{n-1}$都会有$K^M$个状态。那么总的参数为$K^M(K-1)$"
   ]
  },
  {
   "cell_type": "markdown",
   "metadata": {},
   "source": [
    "**然而我们希望构造任意阶数的不受马尔科夫假设限制的序列模型，同时能够使⽤较少数量的⾃由参数确定。**那么我们可以引入**潜在变量，**对于每个观测$x_n$，我们引⼊⼀个对应的潜在变量$z_n$（类型或维度可能与观测变量不同），且我们也假设潜变量也构成马尔科夫链。得到的图结构被称为状态空间模型（state space model），如图13.5所⽰。\n",
    "\n",
    "![](https://github.com/data2world/PRML_Note/blob/master/IMG/CH13/13-5.png)\n",
    "\n",
    "\n",
    "- **如果潜在变量是离散的，那么我们得到了隐马尔科夫模型（hidden Markov model）**\n",
    "- **如果潜在变量和观测变量都是⾼斯变量（结点的条件概率分布对于⽗结点的依赖是线性⾼斯的形式），那么我们就得到了线性动态系统（linear dynamical system）**"
   ]
  },
  {
   "cell_type": "code",
   "execution_count": null,
   "metadata": {},
   "outputs": [],
   "source": []
  }
 ],
 "metadata": {
  "kernelspec": {
   "display_name": "Python 3",
   "language": "python",
   "name": "python3"
  },
  "language_info": {
   "codemirror_mode": {
    "name": "ipython",
    "version": 3
   },
   "file_extension": ".py",
   "mimetype": "text/x-python",
   "name": "python",
   "nbconvert_exporter": "python",
   "pygments_lexer": "ipython3",
   "version": "3.6.5"
  },
  "toc": {
   "base_numbering": 1,
   "nav_menu": {},
   "number_sections": true,
   "sideBar": true,
   "skip_h1_title": false,
   "title_cell": "Table of Contents",
   "title_sidebar": "Contents",
   "toc_cell": false,
   "toc_position": {},
   "toc_section_display": true,
   "toc_window_display": false
  }
 },
 "nbformat": 4,
 "nbformat_minor": 2
}
