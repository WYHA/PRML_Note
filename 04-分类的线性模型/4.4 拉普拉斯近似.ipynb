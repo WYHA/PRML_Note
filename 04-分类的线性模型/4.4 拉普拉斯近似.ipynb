{
 "cells": [
  {
   "cell_type": "markdown",
   "metadata": {},
   "source": [
    "> 在统计学习领域，有的时候**对复杂的分布我们不能直接的计算出它的分布**，我们需要使用**近似的方法对分布近似**。常用的方法有Gibbs采样、变分法和**拉普拉斯近似**，本节我们讨论**拉普拉斯近似**。"
   ]
  },
  {
   "cell_type": "markdown",
   "metadata": {},
   "source": [
    "---\n",
    "## 单一连续变量的情形：\n",
    "---\n",
    "拉普拉斯近似的目标是找到定义在⼀组连续变量上的概率密度的⾼斯近似。**也就是说利用高斯分布去近似一个连续变量的密度函数**。首先我们考虑单一连续变量$z$的情形，假设分布$p(z)$的定义为:\n",
    "\n",
    "$$\n",
    "p(z) = \\frac{1}{Z}f(z) \\tag{4.125}\n",
    "$$\n",
    "\n",
    "如果$f(z)$很复杂，那么我们是几乎求不出归一化项的。所以需要利用高斯分布$q(z)$进行近似。而高斯的中心点就取$p(z)$的众数。即$p^{''}(z_0)=0$。又由于已知高斯的对数其实是变量的二次函数，所以考虑泰勒展开的**前2项**。\n",
    "\n",
    "$$\n",
    "\\ln f(z) \\cong \\ln f(z_0) - \\frac{1}{2}A(z - z_0)^2 \\tag{4.127}\n",
    "$$\n",
    "\n",
    "其中\n",
    "$$\n",
    "\\quad A = - \\frac{d^2}{dz^2} \\ln f(z) \\mid_{z=z_0} \\tag{4.128}\n",
    "$$\n",
    "\n",
    "\n",
    "所以有:\n",
    "$$\n",
    "f(z) \\cong f(z_0) \\mathrm{exp}(-\\frac{A}{2}(z - z_0)^2) \\\\\n",
    "q(z) = (\\frac{A}{2 \\pi})^{1/2} \\mathrm{exp}(-\\frac{A}{2}(z - z_0)^2)\n",
    "$$\n",
    "\n",
    "这样，我们就得到了$p(z)$的高斯分布近似$q(z)$\n",
    "\n",
    "下图给出了拉普拉斯近似的简单示例。不过拉普拉斯的高斯近似只考虑了局部的情况，而且在高维的情况下不仅要求极值点$z_0$还要求相应的Hessian matrix\n",
    "\n",
    "![](https://raw.githubusercontent.com/data2world/PRML_Note/master/IMG/CH04/4.14.png)"
   ]
  },
  {
   "cell_type": "markdown",
   "metadata": {},
   "source": [
    "---\n",
    "## 拉普拉斯近似的简单示例\n",
    "---\n",
    "假设一个网球手的一发命中率为$X \\sim g(z_i|\\theta) = \\theta(\\theta + 1)x_i^{\\theta - 1}(1 - x_i)$，其中$x_{in} \\in (0,1)$。现在的情况是，没有现成的先验。那我们便使用$\\mathrm{Gamma}(\\alpha,\\beta)$作为先验。其后验分布为:\n",
    "\n",
    "- 1)\n",
    "$$\n",
    "\\begin{split}\n",
    "p(\\theta|x) & = \\mathrm{const} * L_x (\\theta) * p(\\theta) \\\\\n",
    "&= \\mathrm{const} * \\Big\\{\\theta^n (\\theta + 1)^n \\prod_{i = 1}^n x_i^{\\theta}\\Big\\} * \\theta^{\\alpha - 1} e^{-\\beta \\theta} \\\\\n",
    "& = \\mathrm{const} * \\theta^{n + \\alpha - 1}(\\theta + 1)^n e^{-\\{b + \\sum_{i = 1}^n \\log(1 / x_i )\\} \\theta}\n",
    "\\end{split}\n",
    "$$\n",
    "\n",
    "- 2)\n",
    "**取对数**\n",
    "\n",
    "$$\n",
    "\\log p(\\theta | x) = \\mathrm{const} + (n + \\alpha - 1)\\log \\theta + n \\log (\\theta + 1) - \\theta \\Big\\{  b - \\sum_{i = 1}^n \\log x_i \\Big\\}\n",
    "$$\n",
    "\n",
    "- 3)\n",
    "**求一阶导数**\n",
    "\n",
    "$$\n",
    "\\frac{n + \\alpha - 1}{\\theta} + \\frac{n}{\\theta + 1} - {b - \\sum_{i = 1}^n \\log x_i}\n",
    "$$\n",
    "\n",
    "- 4)\n",
    "**求二阶导数**\n",
    "\n",
    "$$\n",
    "-\\frac{n + \\alpha - 1}{\\theta^2} - \\frac{n}{(\\theta + 1)^2}\n",
    "$$\n",
    "\n",
    "然后就能求出均值和方差了。比如$n=20$，$\\sum_{i = 1} \\log X_i = -4.59$，假设超参为$a=1,b=1$， 令一阶导为0可得$\\theta=6.69$，二阶导为$-0.785$，这样就可以使用高斯分布$N(6.69,1.1292)$来近似这一段了。"
   ]
  },
  {
   "cell_type": "markdown",
   "metadata": {},
   "source": [
    "---\n",
    "## 模型比较与BIC\n",
    "---\n",
    "BIC(Bayesian Information Criterion)即为**贝叶斯信息准则**。之前说过AIC(赤池信息准则)。看下面的公式，可以知道BIC和AIC的前部分相同，后面当$n>8$时，BIC的惩罚更多，相对来说，BIC更加倾向选择参数简单的模型。\n",
    "\n",
    "$$\n",
    "AIC = -2\\ln(L)+2k \\\\\n",
    "BIC = -2\\ln(L)+\\ln(n)k\n",
    "$$\n",
    "\n",
    "推导过程书中已经比较详细了，这里就不细说了。"
   ]
  },
  {
   "cell_type": "markdown",
   "metadata": {},
   "source": [
    "---\n",
    "## Refrence\n",
    "\n",
    "- [1] http://www2.stat.duke.edu/~st118/sta250/laplace.pdf"
   ]
  },
  {
   "cell_type": "code",
   "execution_count": null,
   "metadata": {
    "collapsed": true
   },
   "outputs": [],
   "source": []
  }
 ],
 "metadata": {
  "kernelspec": {
   "display_name": "Python 2",
   "language": "python",
   "name": "python2"
  },
  "language_info": {
   "codemirror_mode": {
    "name": "ipython",
    "version": 2
   },
   "file_extension": ".py",
   "mimetype": "text/x-python",
   "name": "python",
   "nbconvert_exporter": "python",
   "pygments_lexer": "ipython2",
   "version": "2.7.14"
  },
  "toc": {
   "base_numbering": 1,
   "nav_menu": {},
   "number_sections": false,
   "sideBar": true,
   "skip_h1_title": false,
   "title_cell": "Table of Contents",
   "title_sidebar": "Contents",
   "toc_cell": false,
   "toc_position": {
    "height": "880px",
    "left": "0px",
    "right": "1708px",
    "top": "107px",
    "width": "212px"
   },
   "toc_section_display": "block",
   "toc_window_display": true
  }
 },
 "nbformat": 4,
 "nbformat_minor": 2
}
