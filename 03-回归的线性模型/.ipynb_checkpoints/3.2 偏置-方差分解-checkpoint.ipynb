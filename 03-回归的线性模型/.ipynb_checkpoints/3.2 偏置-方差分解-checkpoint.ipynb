{
 "cells": [
  {
   "cell_type": "markdown",
   "metadata": {
    "collapsed": true
   },
   "source": [
    "## 3.2.0 前言\n",
    "---\n",
    "\n",
    "一般来说，对机器学习模型而言。有三种误差来源：随机误差、偏置、方差。因为随机误差是不可消除的，这一小节讨论偏差-方差的折中。首先我们看一下下面这张图"
   ]
  },
  {
   "cell_type": "markdown",
   "metadata": {},
   "source": [
    "![](https://raw.githubusercontent.com/data2world/PRML_Note/master/IMG/CH03/else1.png)\n",
    "\n"
   ]
  },
  {
   "cell_type": "markdown",
   "metadata": {},
   "source": [
    "**看上面的图，我们就可以知道：**\n",
    "\n",
    "- 低bias，高variance 此时容易造成过拟合。预测的点都很分散。模型很复杂。\n",
    "- 高bias, 低variance 此时容易造成欠拟合。点倒是集中了，但是偏离了正确的“目标值”。"
   ]
  },
  {
   "cell_type": "markdown",
   "metadata": {},
   "source": [
    "---\n",
    "## 3.2.1 公式推导\n",
    "---"
   ]
  },
  {
   "cell_type": "markdown",
   "metadata": {},
   "source": [
    "上一节我们说到，正则化可以控制过拟合。但是正则化有一个权重项的参数（我们自己定义的超参数）。这个参数的确定对我们的模型是有影响的。下面用分解的方式考察超参数对模型的影响。\n",
    "\n",
    "假设用平方损失函数求解回归问题，则最优的预测结果如下：\n",
    "\n",
    "$$\n",
    "h(x)=E[t|x]=\\int tp(t|x)\\mathrm{dt} \\tag{3.36}\n",
    "$$\n",
    "\n",
    "平⽅损失函数的期望可以写成:\n",
    "\n",
    "$$\n",
    "E[L]=\\int \\left \\{ y(x)-h(x) \\right \\}^{2}p(x)\\mathrm{dx}+\\int \\int \\left \\{ h(x)-t \\right \\}^{2}p(x,t)\\mathrm{dxdt} \\tag{3.37}\n",
    "$$\n",
    "\n",
    "那么：\n",
    "\n",
    "- 第⼀项与我们对函数$y(x)$有关，我们要找⼀个$y(x)$的解，使得这⼀项最⼩。\n",
    "- 第二项与$y(x)$无关，是由数据本⾝的噪声造成的，表⽰期望损失能够达到的最⼩值。\n",
    "\n",
    "**实际上，由于数据有限，我们不能够精确地知道$h(x)$，从频率学家的观点出发，根据数据集对$w$进行点估计**\n",
    ">假设有许多数据集，每个数据集的⼤⼩为$N$，并且每个数据集都独⽴地从分布$p(t,x)$中抽取。对于任意给定的数据集$D$，可以学习算法到⼀个预测函数$y(x;D)$。不同的数据集会得到不同的函数，从⽽给出不同的平⽅损失的值。这样，特定的学习算法的表现就可以通过取各个数据集上的表现的平均值来进⾏评估。\n",
    "\n",
    "\n",
    "考虑是第一项被积函数，对于特定的数据集$D$，有\n",
    "\n",
    "$$\n",
    "\\begin{eqnarray}\n",
    "E_{D}[\\left \\{ y(x;D) - h(x) \\right \\}^{2}]&=&E_{D}[\\left \\{ y(x;D)-E_{D}[y(x;D)]+E_{D}[y(x;D)]-h(x) \\right \\}^{2}]\n",
    "\\\\&=&E_{D}[\\left \\{ \\left \\{ y(x;D)-E_{D}[y(x;D)] \\right \\}^{2}+\\left \\{ E_{D}[y(x;D)]-h(x) \\right \\}^{2}\n",
    "\\\\+2\\left \\{ y(x;D)-E_{D}[y(x;D)] \\right \\}\\left \\{ E_{D}[y(x;D)]-h(x) \\right \\} \\right \\}]\n",
    "\\\\&=&\\color{#00F}{\\left \\{ E_{D}[y(x;D)]-h(x) \\right \\}^{2}}+\\color{#F00}{E_{D}[\\left \\{ y(x;D)-E_{D}[y(x;D)] \\right \\}^{2}]}\n",
    "\\end{eqnarray}\n",
    "$$"
   ]
  },
  {
   "cell_type": "markdown",
   "metadata": {},
   "source": [
    "- 第一项【蓝色】为平方偏置，表示所有数据集的平均预测与预期的回归函数之间的差异。\n",
    "- 第⼆项【红色】为⽅差，度量了对于单独的数据集，模型所给出的解在平均值附近波动的情况。\n",
    "\n",
    "$$\n",
    "期望损失 = {偏置}^2+方差+噪声\n",
    "$$\n",
    "\n",
    "其中\n",
    "\n",
    "$$\n",
    "偏置^{2} = \\int \\left \\{ E_{D}[y(x;D)] - h(x) \\right \\}^{2}p(x)\\mathrm{dx} \\\\\n",
    "方差=\\int E_{D}[\\left \\{ y(x;D)-E_{D}[y(x;D)] \\right \\}^{2}]p(x)\\mathrm{dx} \\\\\n",
    "噪声=\\int \\int \\left \\{ h(x)-t \\right \\}^{2}p(x,t)\\mathrm{dxdt}\n",
    "$$\n",
    "\n"
   ]
  },
  {
   "cell_type": "markdown",
   "metadata": {},
   "source": [
    "---\n",
    "## 3.2.2 例子\n",
    "---"
   ]
  },
  {
   "cell_type": "markdown",
   "metadata": {},
   "source": [
    "![](https://raw.githubusercontent.com/data2world/PRML_Note/master/IMG/CH03/3.5.png)\n",
    "\n",
    "如上图所示，我们可以知道：\n",
    ">那么它和正则化超参数有什么关系呢，正则化的超参实际控制着这种平衡的关系，正则化系数大，则它要求不过过于拟合现有数据，因此不同数据得到的方差小，偏置大；反之，数据会相对拟合已有数据，不同数据集得到的模型预测方差大，但各个模型对自身的数据偏置小 "
   ]
  },
  {
   "cell_type": "markdown",
   "metadata": {},
   "source": [
    "## Refrence\n",
    "\n",
    "- [1] http://scott.fortmann-roe.com/docs/BiasVariance.html "
   ]
  },
  {
   "cell_type": "code",
   "execution_count": null,
   "metadata": {
    "collapsed": true
   },
   "outputs": [],
   "source": []
  }
 ],
 "metadata": {
  "kernelspec": {
   "display_name": "Python 2",
   "language": "python",
   "name": "python2"
  },
  "language_info": {
   "codemirror_mode": {
    "name": "ipython",
    "version": 2
   },
   "file_extension": ".py",
   "mimetype": "text/x-python",
   "name": "python",
   "nbconvert_exporter": "python",
   "pygments_lexer": "ipython2",
   "version": "2.7.13"
  },
  "toc": {
   "nav_menu": {},
   "number_sections": false,
   "sideBar": true,
   "skip_h1_title": false,
   "toc_cell": false,
   "toc_position": {
    "height": "880px",
    "left": "0px",
    "right": "1708px",
    "top": "107px",
    "width": "212px"
   },
   "toc_section_display": "block",
   "toc_window_display": true
  }
 },
 "nbformat": 4,
 "nbformat_minor": 2
}
