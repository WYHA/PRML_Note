{
 "cells": [
  {
   "cell_type": "markdown",
   "metadata": {
    "collapsed": true
   },
   "source": [
    "## 固定基函数的作用\n",
    "\n",
    "- 最⼩平⽅问题的解析解\n",
    "- 容易计算的贝叶斯⽅法\n",
    "- ⼀个合适的基函数的选择，可以建⽴输⼊向量到⽬标值之间的任意⾮线性映射\n",
    "\n",
    "## 固定基函数的局限\n",
    "\n",
    "- 基函数的数量随着输⼊空间的维度$D$迅速增长，通常是指数⽅式的增长。\n",
    "\n",
    "\n",
    "## 缓解问题\n",
    "- 数据向量$\\{x_n\\}$通常位于⼀个⾮线性流形内部。\n",
    "- ⽬标变量可能只依赖于数据流形中的少量可能的⽅向。"
   ]
  },
  {
   "cell_type": "code",
   "execution_count": null,
   "metadata": {
    "collapsed": true
   },
   "outputs": [],
   "source": []
  }
 ],
 "metadata": {
  "kernelspec": {
   "display_name": "Python 2",
   "language": "python",
   "name": "python2"
  },
  "language_info": {
   "codemirror_mode": {
    "name": "ipython",
    "version": 2
   },
   "file_extension": ".py",
   "mimetype": "text/x-python",
   "name": "python",
   "nbconvert_exporter": "python",
   "pygments_lexer": "ipython2",
   "version": "2.7.13"
  },
  "toc": {
   "nav_menu": {},
   "number_sections": false,
   "sideBar": true,
   "skip_h1_title": false,
   "toc_cell": false,
   "toc_position": {},
   "toc_section_display": "block",
   "toc_window_display": true
  }
 },
 "nbformat": 4,
 "nbformat_minor": 2
}
